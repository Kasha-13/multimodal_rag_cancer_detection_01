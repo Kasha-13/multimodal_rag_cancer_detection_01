{
 "cells": [
  {
   "cell_type": "code",
   "execution_count": 1,
   "id": "8c3659de-0732-4dcf-911b-aca5f70dc4a7",
   "metadata": {},
   "outputs": [],
   "source": [
    "import base64\n",
    "import pandas as pd\n",
    "from dotenv import load_dotenv\n",
    "import uuid\n",
    "from langchain.retrievers.multi_vector import MultiVectorRetriever\n",
    "from langchain.storage import InMemoryStore\n",
    "from langchain_chroma import Chroma\n",
    "from langchain_core.documents import Document\n",
    "#from langchain_openai import OpenAIEmbeddings\n",
    "from langchain_openai import AzureOpenAI\n",
    "from langchain_openai import AzureOpenAIEmbeddings\n",
    "import io\n",
    "import re\n",
    "import base64\n",
    "from IPython.display import HTML, display\n",
    "from langchain_core.runnables import RunnableLambda, RunnablePassthrough\n",
    "#from langchain.chat_models import ChatOpenAI\n",
    "from langchain_openai import AzureChatOpenAI\n",
    "from langchain.schema import HumanMessage\n",
    "#from langchain.output_parsers import StrOutputParser\n",
    "from PIL import Image\n",
    "import os"
   ]
  },
  {
   "cell_type": "code",
   "execution_count": 1,
   "id": "2a5ede32-9e11-437d-aa00-720bc11f7898",
   "metadata": {},
   "outputs": [],
   "source": [
    "\n",
    "root = os.path.dirname(os.path.realpath(''))\n",
    "data = os.path.join(root,'Data')"
   ]
  },
  {
   "cell_type": "code",
   "execution_count": 2,
   "id": "c3ebbe0c-4a08-4130-a426-5a0be474cc26",
   "metadata": {},
   "outputs": [],
   "source": [
    "image_path = os.path.join(data,'sample_image')\n",
    "#image_path"
   ]
  },
  {
   "cell_type": "code",
   "execution_count": 4,
   "id": "9fe0be49-6251-4196-9a9f-0bfb3385521a",
   "metadata": {},
   "outputs": [],
   "source": [
    "def encode_image(image_path):\n",
    "    \"\"\"Getting the base64 string\"\"\"\n",
    "    with open(image_path, \"rb\") as image_file:\n",
    "        return base64.b64encode(image_file.read()).decode(\"utf-8\")\n",
    "\n",
    "def load_metadata(csv_path):\n",
    "    \"\"\"Load metadata from CSV file\"\"\"\n",
    "    return pd.read_csv(csv_path)\n",
    "\n",
    "def get_combined_text_for_image(img_file, metadata_df):\n",
    "    \"\"\"Retrieve combined_text for a specific image based on isic_id\"\"\"\n",
    "    # Extract the isic_id from the image filename (assuming it's the part before the file extension)\n",
    "    isic_id = os.path.splitext(img_file)[0]  # This removes the '.jpg' extension\n",
    "\n",
    "    # Find the row in the DataFrame where isic_id matches\n",
    "    row = metadata_df[metadata_df['isic_id'] == isic_id]\n",
    "    \n",
    "    if not row.empty:\n",
    "        return row['combined_text'].values[0]  # Extract the combined_text value\n",
    "    else:\n",
    "        return \"\"\n",
    "\n",
    "\n",
    "def generate_img_data(path, csv_path):\n",
    "    \"\"\"\n",
    "    Generate base64 encoded strings and metadata for images\n",
    "    path: Path to the directory with .jpg files\n",
    "    csv_path: Path to the CSV file with metadata\n",
    "    \"\"\"\n",
    "\n",
    "    # Load metadata from CSV\n",
    "    metadata_df = load_metadata(csv_path)\n",
    "\n",
    "    # Store base64 encoded images\n",
    "    img_base64_list = []\n",
    "\n",
    "    # Store image metadata\n",
    "    image_metadata_list = []\n",
    "\n",
    "    # Apply to images\n",
    "    for img_file in sorted(os.listdir(path)):\n",
    "        if img_file.endswith(\".jpg\"):\n",
    "            img_path = os.path.join(path, img_file)\n",
    "            base64_image = encode_image(img_path)\n",
    "            img_base64_list.append(base64_image)\n",
    "            \n",
    "            # Get combined_text for the image\n",
    "            combined_text = get_combined_text_for_image(img_file, metadata_df)\n",
    "            image_metadata_list.append(combined_text)\n",
    "\n",
    "    return img_base64_list, image_metadata_list"
   ]
  },
  {
   "cell_type": "code",
   "execution_count": 5,
   "id": "66d872f5-fc66-47ae-9393-18186f166350",
   "metadata": {},
   "outputs": [],
   "source": [
    "# Paths\n",
    "image_directory = image_path  # Replace with the path to your images\n",
    "csv_file_path = \"Merged_Data1.csv\"  # Replace with the path to your CSV\n",
    "\n",
    "# Generate base64 encoded images and retrieve combined_text metadata\n",
    "img_base64_list,  image_summaries = generate_img_data(image_directory, csv_file_path)\n",
    "\n",
    "# Now img_base64_list contains base64-encoded images and image_metadata_list contains the corresponding combined_text for each image.\n"
   ]
  },
  {
   "cell_type": "code",
   "execution_count": 6,
   "id": "ef7e32a7-ad36-48cd-a79b-1c29a619215c",
   "metadata": {},
   "outputs": [
    {
     "data": {
      "text/html": [
       "<div>\n",
       "<style scoped>\n",
       "    .dataframe tbody tr th:only-of-type {\n",
       "        vertical-align: middle;\n",
       "    }\n",
       "\n",
       "    .dataframe tbody tr th {\n",
       "        vertical-align: top;\n",
       "    }\n",
       "\n",
       "    .dataframe thead th {\n",
       "        text-align: right;\n",
       "    }\n",
       "</style>\n",
       "<table border=\"1\" class=\"dataframe\">\n",
       "  <thead>\n",
       "    <tr style=\"text-align: right;\">\n",
       "      <th></th>\n",
       "      <th>isic_id</th>\n",
       "      <th>combined_text</th>\n",
       "    </tr>\n",
       "  </thead>\n",
       "  <tbody>\n",
       "    <tr>\n",
       "      <th>0</th>\n",
       "      <td>ISIC_9153490</td>\n",
       "      <td>ISIC_9153490 0 60.0 male upper extremity 2.6 T...</td>\n",
       "    </tr>\n",
       "    <tr>\n",
       "      <th>1</th>\n",
       "      <td>ISIC_0157465</td>\n",
       "      <td>ISIC_0157465 0 55.0 female upper extremity 3.3...</td>\n",
       "    </tr>\n",
       "    <tr>\n",
       "      <th>2</th>\n",
       "      <td>ISIC_6306355</td>\n",
       "      <td>ISIC_6306355 0 65.0 male posterior torso 6.05 ...</td>\n",
       "    </tr>\n",
       "    <tr>\n",
       "      <th>3</th>\n",
       "      <td>ISIC_2358370</td>\n",
       "      <td>ISIC_2358370 0 85.0 male anterior torso 2.52 T...</td>\n",
       "    </tr>\n",
       "    <tr>\n",
       "      <th>4</th>\n",
       "      <td>ISIC_1565789</td>\n",
       "      <td>ISIC_1565789 0 65.0 male anterior torso 3.1 TB...</td>\n",
       "    </tr>\n",
       "    <tr>\n",
       "      <th>...</th>\n",
       "      <td>...</td>\n",
       "      <td>...</td>\n",
       "    </tr>\n",
       "    <tr>\n",
       "      <th>95</th>\n",
       "      <td>ISIC_2364514</td>\n",
       "      <td>ISIC_2364514 1 50.0 male upper extremity 14.03...</td>\n",
       "    </tr>\n",
       "    <tr>\n",
       "      <th>96</th>\n",
       "      <td>ISIC_1071408</td>\n",
       "      <td>ISIC_1071408 1 60.0 male anterior torso 9.73 T...</td>\n",
       "    </tr>\n",
       "    <tr>\n",
       "      <th>97</th>\n",
       "      <td>ISIC_7800702</td>\n",
       "      <td>ISIC_7800702 1 65.0 male head/neck 4.9 TBP til...</td>\n",
       "    </tr>\n",
       "    <tr>\n",
       "      <th>98</th>\n",
       "      <td>ISIC_3005303</td>\n",
       "      <td>ISIC_3005303 1 80.0 male anterior torso 5.18 T...</td>\n",
       "    </tr>\n",
       "    <tr>\n",
       "      <th>99</th>\n",
       "      <td>ISIC_5068210</td>\n",
       "      <td>ISIC_5068210 1 65.0 male head/neck 1.65 TBP ti...</td>\n",
       "    </tr>\n",
       "  </tbody>\n",
       "</table>\n",
       "<p>100 rows × 2 columns</p>\n",
       "</div>"
      ],
      "text/plain": [
       "         isic_id                                      combined_text\n",
       "0   ISIC_9153490  ISIC_9153490 0 60.0 male upper extremity 2.6 T...\n",
       "1   ISIC_0157465  ISIC_0157465 0 55.0 female upper extremity 3.3...\n",
       "2   ISIC_6306355  ISIC_6306355 0 65.0 male posterior torso 6.05 ...\n",
       "3   ISIC_2358370  ISIC_2358370 0 85.0 male anterior torso 2.52 T...\n",
       "4   ISIC_1565789  ISIC_1565789 0 65.0 male anterior torso 3.1 TB...\n",
       "..           ...                                                ...\n",
       "95  ISIC_2364514  ISIC_2364514 1 50.0 male upper extremity 14.03...\n",
       "96  ISIC_1071408  ISIC_1071408 1 60.0 male anterior torso 9.73 T...\n",
       "97  ISIC_7800702  ISIC_7800702 1 65.0 male head/neck 4.9 TBP til...\n",
       "98  ISIC_3005303  ISIC_3005303 1 80.0 male anterior torso 5.18 T...\n",
       "99  ISIC_5068210  ISIC_5068210 1 65.0 male head/neck 1.65 TBP ti...\n",
       "\n",
       "[100 rows x 2 columns]"
      ]
     },
     "execution_count": 6,
     "metadata": {},
     "output_type": "execute_result"
    }
   ],
   "source": [
    "pd.read_csv('Merged_Data1.csv')"
   ]
  },
  {
   "cell_type": "code",
   "execution_count": 7,
   "id": "12653d98-40ee-486f-9e0c-d0bc4808f2ae",
   "metadata": {},
   "outputs": [
    {
     "data": {
      "text/plain": [
       "100"
      ]
     },
     "execution_count": 7,
     "metadata": {},
     "output_type": "execute_result"
    }
   ],
   "source": [
    "len(img_base64_list)"
   ]
  },
  {
   "cell_type": "code",
   "execution_count": 8,
   "id": "849001b0-0d87-427d-8ba8-9dcfc6fb590b",
   "metadata": {},
   "outputs": [
    {
     "data": {
      "text/plain": [
       "100"
      ]
     },
     "execution_count": 8,
     "metadata": {},
     "output_type": "execute_result"
    }
   ],
   "source": [
    "len(image_summaries)"
   ]
  },
  {
   "cell_type": "code",
   "execution_count": 9,
   "id": "5eb8c915-db1d-4ce8-9ce4-85a953ff21ac",
   "metadata": {},
   "outputs": [
    {
     "data": {
      "text/plain": [
       "'ISIC_9153490 0 60.0 male upper extremity 2.6 TBP tile: close-up 3D: XP 21.00771 18.01633 30.21897 29.32878 36.80367 34.42042 55.19364 58.43807 34.15388 40.1036 2.852318 18.55894 0.08117166 2.991376 0.890193 -5.949719 6.092942 5.71841 0.8189265 Right Arm - Lower Right Arm 1.506849 0.04638791 4.223213 0.2035441 7.275712 0.05515234 1.081774 1.793079 0.4226804 10 432.8594 1247.562 0.8339233 Department of Dermatology, Hospital Clínic de Barcelona CC-BY-NC benign'"
      ]
     },
     "execution_count": 9,
     "metadata": {},
     "output_type": "execute_result"
    }
   ],
   "source": [
    "image_summaries[89]"
   ]
  },
  {
   "cell_type": "code",
   "execution_count": 10,
   "id": "b08be334-988d-4af1-91ad-6ca854177d3e",
   "metadata": {},
   "outputs": [],
   "source": []
  },
  {
   "cell_type": "code",
   "execution_count": null,
   "id": "68963b75-13bd-4820-a232-c748694ed331",
   "metadata": {},
   "outputs": [],
   "source": []
  },
  {
   "cell_type": "code",
   "execution_count": 11,
   "id": "12505f4d-20aa-4319-bfeb-46e6a77815be",
   "metadata": {},
   "outputs": [
    {
     "data": {
      "text/plain": [
       "<function dotenv.main.load_dotenv(dotenv_path: Union[str, ForwardRef('os.PathLike[str]'), NoneType] = None, stream: Optional[IO[str]] = None, verbose: bool = False, override: bool = False, interpolate: bool = True, encoding: Optional[str] = 'utf-8') -> bool>"
      ]
     },
     "execution_count": 11,
     "metadata": {},
     "output_type": "execute_result"
    }
   ],
   "source": [
    "\n",
    "\n",
    "#os.environ[\"OPENAI_API_VERSION\"] = OPENAI_API_VERSION\n",
    "os.environ[\"OPENAI_API_TYPE\"] = OPENAI_API_TYPE\n",
    "os.environ[\"OPENAI_API_BASE\"] = OPENAI_API_BASE\n",
    "os.environ[\"OPENAI_API_KEY\"] = OPENAI_API_KEY\n",
    "load_dotenv"
   ]
  },
  {
   "cell_type": "code",
   "execution_count": null,
   "id": "6f04b6f2-a79a-4bc2-b8c6-e9ebe2c374c8",
   "metadata": {},
   "outputs": [],
   "source": []
  },
  {
   "cell_type": "code",
   "execution_count": 13,
   "id": "5f086176-794b-4d37-8e20-f9fe41446fb9",
   "metadata": {},
   "outputs": [],
   "source": [
    "\n",
    "\n",
    "def create_multi_vector_retriever(vectorstore, image_summaries, images, text_summaries=None, texts=None):\n",
    "    \"\"\"\n",
    "    Create retriever that indexes summaries, but returns raw images or texts.\n",
    "    \"\"\"\n",
    "    # Initialize the storage layer\n",
    "    store = InMemoryStore()\n",
    "    id_key = \"doc_id\"\n",
    "\n",
    "    # Create the multi-vector retriever\n",
    "    retriever = MultiVectorRetriever(\n",
    "        vectorstore=vectorstore,\n",
    "        docstore=store,\n",
    "        id_key=id_key,\n",
    "    )\n",
    "\n",
    "    # Helper function to add documents to the vectorstore and docstore\n",
    "    def add_documents(retriever, doc_summaries, doc_contents):\n",
    "        doc_ids = [str(uuid.uuid4()) for _ in doc_contents]\n",
    "        summary_docs = [\n",
    "            Document(page_content=s, metadata={id_key: doc_ids[i]})\n",
    "            for i, s in enumerate(doc_summaries)\n",
    "        ]\n",
    "        retriever.vectorstore.add_documents(summary_docs)\n",
    "        retriever.docstore.mset(list(zip(doc_ids, doc_contents)))\n",
    "\n",
    "    # Add images and their corresponding summaries\n",
    "    if image_summaries:\n",
    "        add_documents(retriever, image_summaries, images)\n",
    "\n",
    "    # Add texts and their corresponding summaries (optional)\n",
    "    if text_summaries and texts:\n",
    "        add_documents(retriever, text_summaries, texts)\n",
    "\n",
    "    return retriever\n",
    "\n",
    "# The vectorstore to use to index the summaries\n",
    "vectorstore = Chroma(\n",
    "    collection_name=\"mm_rag_skincancer_db\", embedding_function=AzureOpenAIEmbeddings()\n",
    ")\n",
    "\n",
    "# Assume image_metadata_list is the list of metadata (combined_texts) corresponding to each image\n",
    "# Assume img_base64_list is the list of base64-encoded images\n",
    "image_summaries = image_summaries # Using metadata as summaries"
   ]
  },
  {
   "cell_type": "code",
   "execution_count": 14,
   "id": "16a7e069-1e9b-4bfb-93e9-e9829b3bf7ad",
   "metadata": {},
   "outputs": [
    {
     "data": {
      "text/plain": [
       "AzureOpenAIEmbeddings(client=<openai.resources.embeddings.Embeddings object at 0x00000233FD2EE120>, async_client=<openai.resources.embeddings.AsyncEmbeddings object at 0x00000233FD34D550>, model='text-embedding-ada-002', dimensions=None, deployment=None, openai_api_version='2023-05-15', openai_api_base=None, openai_api_type='Azure', openai_proxy='', embedding_ctx_length=8191, openai_api_key=SecretStr('**********'), openai_organization=None, allowed_special=None, disallowed_special=None, chunk_size=2048, max_retries=2, request_timeout=None, headers=None, tiktoken_enabled=True, tiktoken_model_name=None, show_progress_bar=False, model_kwargs={}, skip_empty=False, default_headers=None, default_query=None, retry_min_seconds=4, retry_max_seconds=20, http_client=None, http_async_client=None, check_embedding_ctx_length=True, azure_endpoint='https://dp-openai-v3.openai.azure.com/', azure_ad_token=None, azure_ad_token_provider=None, validate_base_url=True)"
      ]
     },
     "execution_count": 14,
     "metadata": {},
     "output_type": "execute_result"
    }
   ],
   "source": [
    "AzureOpenAIEmbeddings()"
   ]
  },
  {
   "cell_type": "code",
   "execution_count": 15,
   "id": "5d2a1069-d571-4abe-a60a-5e5484462527",
   "metadata": {},
   "outputs": [],
   "source": [
    "# Create retriever\n",
    "retriever_multi_vector_img = create_multi_vector_retriever(\n",
    "    vectorstore,\n",
    "    image_summaries=image_summaries,\n",
    "    images=img_base64_list\n",
    ")"
   ]
  },
  {
   "cell_type": "code",
   "execution_count": 16,
   "id": "5bf38448-6d2e-4733-94f8-0dc54b05f127",
   "metadata": {},
   "outputs": [
    {
     "data": {
      "text/plain": [
       "MultiVectorRetriever(vectorstore=<langchain_chroma.vectorstores.Chroma object at 0x00000233FCE7DB20>, docstore=<langchain_core.stores.InMemoryStore object at 0x00000233FD14BF80>)"
      ]
     },
     "execution_count": 16,
     "metadata": {},
     "output_type": "execute_result"
    }
   ],
   "source": [
    "retriever_multi_vector_img"
   ]
  },
  {
   "cell_type": "code",
   "execution_count": 17,
   "id": "d0898ee1-92c1-41b0-8724-a18891396c87",
   "metadata": {},
   "outputs": [],
   "source": [
    "#%pip install -qU langchain-openai"
   ]
  },
  {
   "cell_type": "code",
   "execution_count": 18,
   "id": "07add8b8-e9e2-40c0-83eb-9394cfff3a62",
   "metadata": {},
   "outputs": [],
   "source": [
    "\n",
    "\n",
    "def plt_img_base64(img_base64):\n",
    "    \"\"\"Display base64 encoded string as image\"\"\"\n",
    "    image_html = f'<img src=\"data:image/jpeg;base64,{img_base64}\" />'\n",
    "    display(HTML(image_html))\n",
    "\n",
    "def looks_like_base64(sb):\n",
    "    \"\"\"Check if the string looks like base64\"\"\"\n",
    "    is_base64 = re.match(\"^[A-Za-z0-9+/]+[=]{0,2}$\", sb) is not None\n",
    "    #print(f\"looks_like_base64({sb[:30]}...): {is_base64}\")\n",
    "    return is_base64\n",
    "\n",
    "\n",
    "def is_image_data(b64data):\n",
    "    \"\"\"\n",
    "    Check if the base64 data is an image by looking at the start of the data\n",
    "    \"\"\"\n",
    "    image_signatures = {\n",
    "        b\"\\xff\\xd8\\xff\": \"jpg\",\n",
    "        b\"\\x89\\x50\\x4e\\x47\\x0d\\x0a\\x1a\\x0a\": \"png\",\n",
    "        b\"\\x47\\x49\\x46\\x38\": \"gif\",\n",
    "        b\"\\x52\\x49\\x46\\x46\": \"webp\",\n",
    "    }\n",
    "    try:\n",
    "        header = base64.b64decode(b64data)[:8]  # Decode and get the first 8 bytes\n",
    "        for sig, format in image_signatures.items():\n",
    "            if header.startswith(sig):\n",
    "                return True\n",
    "        return False\n",
    "    except Exception:\n",
    "        return False\n",
    "\n",
    "def resize_base64_image(base64_string, size=(256, 256)):\n",
    "    \"\"\"\n",
    "    Resize an image encoded as a Base64 string to a size more appropriate for analysis\n",
    "    \"\"\"\n",
    "    img_data = base64.b64decode(base64_string)\n",
    "    img = Image.open(io.BytesIO(img_data))\n",
    "\n",
    "    # Resize the image\n",
    "    resized_img = img.resize(size, Image.LANCZOS)\n",
    "\n",
    "    # Save the resized image to a bytes buffer\n",
    "    buffered = io.BytesIO()\n",
    "    resized_img.save(buffered, format=img.format)\n",
    "\n",
    "    # Encode the resized image to Base64\n",
    "    return base64.b64encode(buffered.getvalue()).decode(\"utf-8\")\n",
    "\n",
    "def split_image_text_types(docs):\n",
    "    \"\"\"\n",
    "    Split base64-encoded images and texts\n",
    "    \"\"\"\n",
    "    b64_images = []\n",
    "    texts = []\n",
    "    \n",
    "    for doc in docs:\n",
    "        # Check if the document is of type Document and extract page_content if so\n",
    "        if isinstance(doc, Document):\n",
    "            doc = doc.page_content\n",
    "        if looks_like_base64(doc) and is_image_data(doc):\n",
    "            doc = resize_base64_image(doc, size=(256, 256))  # Adjusted size for skin analysis\n",
    "            b64_images.append(doc)\n",
    "        else:\n",
    "            texts.append(doc)\n",
    "            #print(texts)\n",
    "    return {\"images\": b64_images, \"texts\": texts}\n",
    "\n",
    "\n",
    "\n",
    "def img_prompt_func(data_dict):\n",
    "    \"\"\"\n",
    "    Join the context into a single string\n",
    "    \"\"\"\n",
    "    formatted_texts = \"\\n\".join(data_dict[\"context\"][\"texts\"])\n",
    "    messages = []\n",
    "\n",
    "    # Adding image(s) to the messages if present\n",
    "    if data_dict[\"context\"][\"images\"]:\n",
    "        for image in data_dict[\"context\"][\"images\"]:\n",
    "            image_message = {\n",
    "                \"type\": \"image_url\",\n",
    "                \"image_url\": {\"url\": f\"data:image/jpeg;base64,{image}\"},\n",
    "            }\n",
    "            messages.append(image_message)\n",
    "    #print(data_dict)\n",
    "    # Adding the text for analysis\n",
    "    text_message = {\n",
    "        \"type\": \"text\",\n",
    "        \"text\": (\n",
    "            \"You are a medical expert specializing in skin cancer detection.\\n\"\n",
    "            \"You are given a mixture of text data and dermatoscopic images to train on.\\n\"\n",
    "            \"Use this information to predict whether its a begnin or malignant case on new input text data.\\n\"\n",
    "            f\"User-provided query: {data_dict['question']}\\n\\n\"\n",
    "            \"Relevant medical texts and notes:\\n\"\n",
    "            f\"{formatted_texts}\"\n",
    "            \"No analysis is required. Just give the prediction in terms of probability\"\n",
    "        ),\n",
    "    }\n",
    "    messages.append(text_message)\n",
    "    return [HumanMessage(content=messages)]\n",
    "\n",
    "def multi_modal_rag_chain(retriever):\n",
    "    \"\"\"\n",
    "    Multi-modal RAG chain\n",
    "    \"\"\"\n",
    "    # Multi-modal LLM\n",
    "    #model = ChatOpenAI(temperature=0, model=\"gpt-4-vision-preview\", max_tokens=1024)\n",
    "    model = AzureChatOpenAI(\n",
    "                azure_deployment=\"skincancer-final-model\",  # or your deployment\n",
    "                api_version=\"2023-06-01-preview\",  # or your api version\n",
    "                temperature=0,\n",
    "                max_tokens=None,\n",
    "                timeout=None,\n",
    "                max_retries=2,\n",
    "                # other params...\n",
    "            )\n",
    "\n",
    "    # RAG pipeline\n",
    "    chain = (\n",
    "        {\n",
    "            \"context\": retriever | RunnableLambda(split_image_text_types),\n",
    "            \"question\": RunnablePassthrough(),\n",
    "        }\n",
    "        | RunnableLambda(img_prompt_func)\n",
    "        | model\n",
    "        | RunnableLambda(lambda x: x.content)  # Parsing output to string\n",
    "    )\n",
    "\n",
    "    return chain\n",
    "\n",
    "from langchain_openai import AzureChatOpenAI\n",
    "\n",
    "\n",
    "\n",
    "# Create RAG chain\n",
    "chain_multimodal_rag = multi_modal_rag_chain(retriever_multi_vector_img)\n"
   ]
  },
  {
   "cell_type": "code",
   "execution_count": 21,
   "id": "095f6ca0-201b-4464-a3e3-7080ce41d295",
   "metadata": {},
   "outputs": [
    {
     "data": {
      "text/plain": [
       "'test_docs = [\\n    \"45\\tmale anterior torso\\t16.45 TBP tile: close-up 3D: XP\\t10.04022 13.80461 12.19361 24.57513\\t15.79526 28.18695 50.53194 6.67573\\t17.63536 41.38646 93.97636 20.48454\\t4.569612 -3.764385 -12.38152 -23.7511 26.91705 25.49814\\t0.8977018 Torso Front Bottom Half Torso Front 7.534248 2.73E-07\\t2.913925 10\\t43.87554 5.375057 9.30981 2.464056\\t0.1985481 155 -182.8401\\t1106.817 37.00763 Department of Dermatology, Hospital ClÃ\\xadnic de Barcelona\\tCC-BY-NC\",\\n    encode_image(image_path+ \"\\\\ISIC_1211710.jpg\")\\n]\\n\\nsplit_result = split_image_text_types(test_docs)\\nprint(\"Resulting split:\", split_result)'"
      ]
     },
     "execution_count": 21,
     "metadata": {},
     "output_type": "execute_result"
    }
   ],
   "source": [
    "\"\"\"test_docs = [\n",
    "    \"45\tmale anterior torso\t16.45 TBP tile: close-up 3D: XP\t10.04022 13.80461 12.19361 24.57513\t15.79526 28.18695 50.53194 6.67573\t17.63536 41.38646 93.97636 20.48454\t4.569612 -3.764385 -12.38152 -23.7511 26.91705 25.49814\t0.8977018 Torso Front Bottom Half Torso Front 7.534248 2.73E-07\t2.913925 10\t43.87554 5.375057 9.30981 2.464056\t0.1985481 155 -182.8401\t1106.817 37.00763 Department of Dermatology, Hospital ClÃ­nic de Barcelona\tCC-BY-NC\",\n",
    "    encode_image(image_path+ \"\\\\ISIC_1211710.jpg\")\n",
    "]\n",
    "\n",
    "split_result = split_image_text_types(test_docs)\n",
    "print(\"Resulting split:\", split_result)\"\"\"\n"
   ]
  },
  {
   "cell_type": "code",
   "execution_count": 22,
   "id": "7ac1114b-f7d1-455b-be58-0a30e9564b5c",
   "metadata": {},
   "outputs": [
    {
     "data": {
      "text/plain": [
       "{\n",
       "  context: MultiVectorRetriever(vectorstore=<langchain_chroma.vectorstores.Chroma object at 0x00000233FCE7DB20>, docstore=<langchain_core.stores.InMemoryStore object at 0x00000233FD14BF80>)\n",
       "           | RunnableLambda(split_image_text_types),\n",
       "  question: RunnablePassthrough()\n",
       "}\n",
       "| RunnableLambda(img_prompt_func)\n",
       "| AzureChatOpenAI(client=<openai.resources.chat.completions.Completions object at 0x0000023380299040>, async_client=<openai.resources.chat.completions.AsyncCompletions object at 0x00000233FEA56C60>, root_client=<openai.lib.azure.AzureOpenAI object at 0x00000233801F43B0>, root_async_client=<openai.lib.azure.AsyncAzureOpenAI object at 0x0000023380299070>, temperature=0.0, openai_api_key=SecretStr('**********'), openai_proxy='', azure_endpoint='https://dp-openai-v3.openai.azure.com/', deployment_name='skincancer-final-model', openai_api_version='2023-06-01-preview', openai_api_type='Azure')\n",
       "| RunnableLambda(...)"
      ]
     },
     "execution_count": 22,
     "metadata": {},
     "output_type": "execute_result"
    }
   ],
   "source": [
    "chain_multimodal_rag"
   ]
  },
  {
   "cell_type": "code",
   "execution_count": null,
   "id": "da35d553-b0ca-44c2-bbbb-36c6259124ea",
   "metadata": {},
   "outputs": [],
   "source": []
  },
  {
   "cell_type": "code",
   "execution_count": null,
   "id": "017a7bee-6f26-417c-96a7-5290109b6a2e",
   "metadata": {},
   "outputs": [],
   "source": []
  },
  {
   "cell_type": "code",
   "execution_count": 27,
   "id": "d5b6eba1-7b6f-4e71-87f0-84fb10163367",
   "metadata": {},
   "outputs": [
    {
     "data": {
      "text/plain": [
       "4"
      ]
     },
     "execution_count": 27,
     "metadata": {},
     "output_type": "execute_result"
    }
   ],
   "source": [
    "# Check retrieval with a query relevant to skin cancer detection\n",
    "#query = \"Identify signs of malignant in these images and correlate with the provided textual descriptions. Consider features like asymmetry, border irregularity, color variation, and diameter.\"\n",
    "#query = 'Retrieve some sample images for malignant cases and text description related to it'\n",
    "query = \"ISIC_0074664 0 IP_9179679 70 male posterior torso 3.01 TBP tile: close-up 3D: XP 21.38496 16.90438 30.64639 29.90155 37.37001 34.3491 55.09278 60.51902 35.67091 44.6079 4.034528 17.5092 1.624217 4.480578 0.7448426 -8.936993 9.2946 7.969639 0.8523205 Torso Back Middle Third Torso Back 1.726028 62.32678 4.059123 4.634695 8.404841 1.471253 4.310717 1.789126 0.4263566 50 64.70935 1220.591 172.2924 Department of Dermatology, Hospital Clínic de Barcelona CC-BY-NC\"\n",
    "# Retrieve documents using the multi-vector retriever\n",
    "docs = retriever_multi_vector_img.invoke(query, limit=6)\n",
    "\n",
    "# Check the number of retrieved documents\n",
    "len(docs)\n"
   ]
  },
  {
   "cell_type": "code",
   "execution_count": 28,
   "id": "7815b700-5a7e-4f69-932d-cfc5cfa58529",
   "metadata": {},
   "outputs": [
    {
     "data": {
      "text/html": [
       "<img src=\"data:image/jpeg;base64,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\" />"
      ],
      "text/plain": [
       "<IPython.core.display.HTML object>"
      ]
     },
     "metadata": {},
     "output_type": "display_data"
    }
   ],
   "source": [
    "# We get back relevant images\n",
    "plt_img_base64(docs[0])"
   ]
  },
  {
   "cell_type": "code",
   "execution_count": null,
   "id": "d944348d-fa4e-4e69-866f-0a769ea4b552",
   "metadata": {},
   "outputs": [],
   "source": []
  },
  {
   "cell_type": "code",
   "execution_count": 29,
   "id": "be162efb-c734-483b-860b-6aecb40563f4",
   "metadata": {},
   "outputs": [
    {
     "name": "stdout",
     "output_type": "stream",
     "text": [
      "looks_like_base64(/9j/4AAQSkZJRgABAQAAAQABAAD/2w...): True\n",
      "looks_like_base64(/9j/4AAQSkZJRgABAQAAAQABAAD/2w...): True\n",
      "looks_like_base64(/9j/4AAQSkZJRgABAQAAAQABAAD/2w...): True\n",
      "looks_like_base64(/9j/4AAQSkZJRgABAQAAAQABAAD/2w...): True\n",
      "{'context': {'images': ['/9j/4AAQSkZJRgABAQAAAQABAAD/2wBDAAgGBgcGBQgHBwcJCQgKDBQNDAsLDBkSEw8UHRofHh0aHBwgJC4nICIsIxwcKDcpLDAxNDQ0Hyc5PTgyPC4zNDL/2wBDAQkJCQwLDBgNDRgyIRwhMjIyMjIyMjIyMjIyMjIyMjIyMjIyMjIyMjIyMjIyMjIyMjIyMjIyMjIyMjIyMjIyMjL/wAARCAEAAQADASIAAhEBAxEB/8QAHwAAAQUBAQEBAQEAAAAAAAAAAAECAwQFBgcICQoL/8QAtRAAAgEDAwIEAwUFBAQAAAF9AQIDAAQRBRIhMUEGE1FhByJxFDKBkaEII0KxwRVS0fAkM2JyggkKFhcYGRolJicoKSo0NTY3ODk6Q0RFRkdISUpTVFVWV1hZWmNkZWZnaGlqc3R1dnd4eXqDhIWGh4iJipKTlJWWl5iZmqKjpKWmp6ipqrKztLW2t7i5usLDxMXGx8jJytLT1NXW19jZ2uHi4+Tl5ufo6erx8vP09fb3+Pn6/8QAHwEAAwEBAQEBAQEBAQAAAAAAAAECAwQFBgcICQoL/8QAtREAAgECBAQDBAcFBAQAAQJ3AAECAxEEBSExBhJBUQdhcRMiMoEIFEKRobHBCSMzUvAVYnLRChYkNOEl8RcYGRomJygpKjU2Nzg5OkNERUZHSElKU1RVVldYWVpjZGVmZ2hpanN0dXZ3eHl6goOEhYaHiImKkpOUlZaXmJmaoqOkpaanqKmqsrO0tba3uLm6wsPExcbHyMnK0tPU1dbX2Nna4uPk5ebn6Onq8vP09fb3+Pn6/9oADAMBAAIRAxEAPwC0AB0oLEdKYuc4qXGOorhZ6txDIGGD1o2scYqMhd/J5qRXdc/LxUk2H7QBSAZK5pCx6mjBJB9KYxSBlqg2gPUjMBuJNNVgwoGSlUKZHUU3YpGT1pwHb1prqR14oC4gbY2O1OcjHy1HtJPTimudg+U5pAPwFORTYyWmyelIqnbnvUygbfegQ5wxPXiom4IFSyIUUEnqKiYHg4pgKVOaa4JXFODHuKGBI6UAQiPnNTIm4bRTHOE4qGG5YOQvPNSUi4IfLpcAginCTzV96aEO4HH1oIY5QFXFOVlHBpMfN7UhIPIHFMVhkkCO2aR41UcU/BJwKicgtwc4pFIpuGDkrRJIdgBqZovMJ2mmSQlVFBomJA5GasK2VNUWcoSAKcszhMY5qObUTRoJK3emShXB9ajiyeppXIzitEybEm3HHejJThqI8jryfWmzKSDk07kobJIoO6mrch+BSeWWQr196akYQ4NIonB3DFPUkHFNXjnpSqrEZzTEDqcYxUewgVK+4jcD07UMQVHNAMXBCqfSgvu61Iql1AHeo2AD7ehoEJmmSEbaeXCggiq7uDjikMnj5xUrYUUyPGB9KeSGB46UBca7B15PSokIJ5PSlKHr2oRBnrimBKACKjwd3tTmwvQ5oUjOSaQyOZDsOKowxOspz3rQlIxwaajJ1NIY6M7QalR+OahLrk0mfSnYmxMX54pCd3ApqAjk80z5vMJUfhQBKjHB9qiYgA1dtArQuGGDVR0G488UhjFPGaJCHGBT40GDzTgiZ6UBcoNCQ1SBQFwRVxlHTFIYAV60cqHcbCgHWnOqDknGKDlVyOarSyspxikLUfvOetOZt3BPFVlDE5NSYB45qhIUTbGwKUndz3FRBRupx4IoKJc7hk8U6N8gimfeHWnRgjkjFMlj1f5SDUzpH5YIqIpnpTUBPBoETCYRx5A5FV5HDnf3qRgcYyMVWdGVwRQBN95B60LFk4Io2ADI60+Lkk55oAU4HbmnD5fvDrUZZo5PlXI65qcyiZAGIBoAjduCAOKhUZNPkf8AhX86TG0ZPWkAojGcZprLhqRWPmZPSnu4zxQURnBpqhScU4g7uOlLGmXOaSAPLGKcExinkYOAeKMVQMUEgDinphWPHFIDkYp4KqvIpMlbkLsyudvAqAvwT1qw5DZxTEjUA8VJZGJgwUAYx1qUHIqJgq5457U/kICKoLEqcqKRm7UqHBxSFctRYm5GQyio5Yt2CanchVqNmzilYaYogx1pPLGcU5mOMGmorN8vrVWJuQsNrU3zDnA6d6sTrgrULD5ulIq5IhjAyDz6U/cWGSOahUYqVSc5HSi4iRGx1pgc5PFIxbNJkdmFMLEhHGc0Eg4pu98YyMUwE7uTmkKxKylhx6UyJWyaeBk8ZFKoJORTEAB3YJ4oYKDjGafvOcYFRMWLUrjBucYHSnALIMHqKbt+U805RhRjrQBA3DbaTBBxVh4ARuP3qgbMZ3dT0oGmODjZSqMjdSLlhyBTgeaLDJEC9zTn2gdaZjIqNlz3p3Ex6svrUpIC81WBCU7zWZCAKm4kKehIoJIFRQqzEqTUpGFxmixQxl3EZqZMbQKRVZU6ZzShcDNNIVx5wBmkwcZFND/wkU5XVTyaokjkAZaYQAtTuwZOBUTDAzU3KQ0HeeeKeZBH0qMNnoKXI7iqZKGmXe3NN5J5GKXK54oJODipLRFK4UdaijnJGAc1DcSPnGBUcL7VyetS2Oxo+blevPpTQOe9Vo/mbINWEJY1QEoAxyeKBgNkcUv3R0pfvD7tBLH5ZuAQfpT8lOM00JgAinY3detMkDuJzUTNhutWFBCHPrUMkeeallIcnI571MqY2n3qvGD37VKHOcVQiSYfNkH8KrONw9/SpDJg4amnDHIoAYAaUD1NNOc9aMEMPSgdyXIxxS7PlzRgY4oLYUCgTIXjyaeiGPI6ihvWl3bRzSsCI+QSQcVGS4Ge1POWfIoYkLgigolSciIDGc05WPU1BuBQDpipcZUHNUiWO4BJIppCtz2pS3y4PIpAQV2gUmIkxtTmq8znHy81NtJHJprLgHipKIIWwOaJZM/SnLs3cdKbLtLDFUFiJW56U/Oc9aRQM1IoGGpMZUlg3Gq0kBHGa1kQYOahkjU/WpsO5VhiKYywNXo02jJIqFdqjJpfMA70xNkx+b7tPAYL2qv5oU5qxHJvXimSxV3ZHapJCFAx1prBtozUDEtQIk3ll4bFPB+Tk1DGvPNS4XPtTshiM3AAGKCSB70FgelNzmhBYM5OWOaQhs8dKQ7TyKEY7sHpQwsDKQKWI56084NGArCgCQ428cVE4OBkipCcjimEcc0CE3BgB6UjEHqKYSM8UjhjSbLVhyyKGABxSy5DA8Ee1VtvzVMrjH0oQgAJyMEZqQMFXGCfpTlO/g0pTZxTExglHC44FLkh9w6UbMGncUgsKDk4BxTtx5yRioiDu4pFUknNAXIkK7fehQH61XQkcVMrYPFMYMdjcU8MQMiogCz807eDkDtQBKp3UFck+tRo22nGYFQB940WFchkH7sgdarHcGANXnTjjqarSqd9JlIaFZ2A7VbgJTIJ6VS8wqT61YgbKkseaEDRc8wsuMjFMCd81GoyODSjIHWmxWHbtvHvTmccDtVOafYtNW4LAGpuOxZYlOnSmmbYKbuJGTVSSQbsZpN2KsWXfeMg4pY5s/KDk1REhJwKsQxkPu74oTuDWhc3kdalzvANNUbwOKfxjHpVmY5dq+tOJRwB3pgYqemaikc5yOtJha4NhHIpVI+tUZJH83mrEDhqCmifarNUJhcA7ashVLYJxQy7GwDkUyVsQxbkAB71ZySvHSmbgTg04NgYFAmNwRwORSbfWpF4HPWhhu6UguQiQBqkwT8wI296jK5GSMU1WPQHigqxUIK4OKlVuVOKR5AY+etCt0B4pgOL0gwc8c0jEUgYdjQAoQk9akWPaM4Gaarj1FO3hqQICZM8YqNsN160SEj7pqnLLsP3qTKRK0Y60sOQSKijcsKtIoyKEDHxgjvUmwkdaR156HFAwPWqIZG9uGPzVE0BX7tWweehpHGRwaloCB/lh4POKoEMxGcda0RGpODmqcsWJuDxUM0iRRriQmtCJ+MDrUCqMEmnREqelXEUmX422jrSK2SSfWmhMjOfwpxHHSqM0Ej8cGoiW2g459aXBPY08qdgoGUpI3dsirEMJUU8ZBpzPtFAApwealyCKgHzDg81Ki8UCGnhvXNL8wOaCQGFPMg9KAFDZHSnbfk681EW+YU6RjkAUAMbnjNM24YU49eadt70AZ7rlfelQ7sZ6CkbPme1KncUFCuCRgdKaAMYFKu4ybR3odWjYg9aAGHKtgVYiU7M1HFhjzVgHGQKQkQbTzUUlsrnNW16nNMbgGgq4yKEKABT/JOc5pqZqTcQOaaE2SrwMZo25qJWy1Sg8UyRR0xTWFJnmhjSYxSyjFUJrmPzCp69qndmwcfrXPS3Cm/8sn5gc1KRslobCoxGSatxKAoOeaZbgNACT1qYJsIp2MpDwcPQzc9aYThqaSCCeaZKJgfl60nmrjB7VD1Xg1WbcX4NA7F3eDTHAI604LiMHvTwAy9KAIoV+cc1YYFBkc1HgDtigMwbB6UCJiAUDY5qPYz81IzArjvTYXKvtbpQAgBOM9RQh3Tjd0q20G5S6YqoqnJJ6igCVlVj0pCCo459qbubdTyvGc0AZ5A3VGTwQOtSEEc0wL1Y0x2HhiuD3pHfzDzTB160pAoCw5Nqmp92UwKrdTTvN2DFJgkOXcrcmnsQRVBriRpdoAxVhd3WkNj84NO3ZqPPIwKeEDDdkimIcoOakBOMUyOTHGBT2IxkUCGk4OaRpA3FNLc89ad5YKZBGaBpFa9mZLfIFc9HZtNe+bzzXR3UZlh2Hj3FMtrVUx7VJbmTwRFbcDuKlGSBmpIhwcZp3ksRkjFUZt3Im4OartL83tVpwB1qjOVpNjQ8yZ6UgYE4PWmQsuMdfrTZEPmZGeaSZTLiEjr0qdCNtV4skbSDUmNpxmncklwDTZMKeKaeRtzTXGCMEmgYxZSZD7VMW3ciqvneW5yo5qcThl4XigVieK4kjyvVTRuC5Y96hTJJOeO1MkzjOc+1O4WLZZTyKYTnr0qKEHbUxKovNIRSL5OKY2cYpFypyeaefnHpTuVcgdttSxuCvSmMocEd6RcxgCmFyRxkcVCV565qYktShQeMUNAmVvLIkBqxGWAINOyuDxz600ScUhvUeoAzmp4VDKRUYjaRQQBSByh2qcGixIjptJxRG+eDTx8xOaQoF6CnYQx5EU5IpoO/lc4pGAY8jApsz+UAEOPpU3LRLuU8E1IoHY1QDFh059asRMQozU3E0Xl3quaXe68E5FV/NyOtOVtzVVxWCXcRmqhAIOauysCuBVUrj8aVhkYAUZUVIu9tpNCIc57VJ0we1CQiTfsPOKQyI3INQy8iqe8rQOxqIARnNKo4LGoLdwUqfORinYSKdyjtgoKdCkoiORzVhkKrmq7Xfljk0FoiM8kTbW6U4T7zgVBPOJkBFRW+4y4HWpBqxsxZVOakkCkAnpUUIO35yTTi3zD0q0iCvDhk5pMc0+NVRaaXBOKZOpCVKyVJtBfn8KQ9aVSFdSRmqAc6gDimLxk05mYuW21EjFjyMCpZSGs2ATTRICnzDFPlwBxVdiCaQzVtGhMeN/zdqgVf3zE1VtD+8xVk/K1NCZaQKVyaryvg4WnxvyT7UjJuBNDEUpmbb71CpZmG7NWXhJOc4qNdwOOtZu5aFckkBRTo927BpcEjpUkSkUJA2Oxs60qyg8DrTJFbPNKkffNUkTcUEs1KeuKkSL5qRlCk5FOwXFUj7tNkGOM009OBQo3KBSE2RPmgwg1IY+akUAcU0ir6DIlCripl45poGWxin7lIxVrYi4kkoK4rOuI94NXiodWB7dKhmhZkA7VlJFpmcibCFzWhboqOGxTfsoyDjmp4kVXwwppBJknmOo6CnpISOQKbKI0TimIdxWquSiJmwKavPNDEdKhMmz6UirFjBoYHgjtUIYsMg1MHwuGphYR5nxx0pCflpsgyvFKjEDaRQIZtLdKQQqxO3rUvBOKRfkeiwXII1MchGOatA5HzdaacAlscihX3UxEy4AoV+1MGe1OGRzQIfwowy9e9VZId75VsCrQ+cUxkxUMtMYqlRg/nUikc0obIxijaSaLCYYDHBPNNYLG2GJFI+UYEUyWT5smmBKspRsjkU933nJFVUBY5PSpo25IouFhWfAxilTpk9TSscnpSbgDQxWG7grfN0p6Lh89qQ4NP27e9NMBzMSw2rR5Y696TcAc07eMUybDSoyKXd2PSmO/IxShuKTKQoAJyO1NPLZ7UKCS1JsODzSBohdWYYzUqLtAHem4GetPIHrQF7FGQknio2YDhhkVaEQ71Wmjy2BQUPR8rwuKkB3KM9arMHBG3oKkV9uT60DJmOFxTFJJ3DpVdpyTg9KPPAG0UcwnEuxMobJGakkA3bsVnxvlqvkbgOe1O5LViJuT9aeqhVzUcj7O1RG4GME1LZSRZEqjvVeW5Ktgc1VaYAnmiKVWPNSpDsX4ZhtyTzUrShhVNcVMBxwKoRKGyB2pdxHfimc8UoPBB70xDi4bGOaRyjDpzTkUqvFQyK+ScUAIX5wBipkXAyDmoYuTyKsLzwKENjmBXB601sYznmlIJ79KYSSKGJDA4zShyWxmoi5DdKcCByKENotKM8H86cQAOtQpIW4qQZqiGLj2zTOjdOKk6jg0x8BeetJghSwXLA8GlVlI5bFVxkjFRhW3cGkUWSAGp643Coxk9akABUk0EkLg54qGQKrZNKXO6kkUtyaZVx0W1lII4qCaPHToKfgqOKTaSeelIdyqY/MBqFYXB46VfaLB46U4BfSgOYihi9asRsVHvTSQKATuxQJu5JKC69KypP9bgCtPzDyKqPCxfdik0UmU2Q7jmnW6gyc1eEPcjNPWNQeF5pJDbHiIYBqVflWoWDBgOlSE4SqRDY8MmORUMpznbSYJp23imwFhY7etTrjqetQxrg4p7cVIDiFB4FIODnHNR7qGm2jHegdh7ttFR7w3C8etQmYk80m7PzCi47CScyY7VIoGcZ4PSklKtGCOtNUjcMdqEItpG8fJ71KSQOlRC4aTHoKkySKdyGKDnmmO4JpzZAFV2zvouUibA696aSEOcc0gbBoLg9qChVctTwQOPWmcdqdkAc0GbIjGA+4Ui5EntSjcY8jmkU7sCmAbQWzSkjpQBzxTGKhsZ5oAd3pQvOe9IozTyMLuHWkOxGVw2TTCuRmpGO5fSmLkjpxTQWHRDdz6VKqIAc1EMqPlGaC4YDB6daAF3BcimAnd7U1zz04pEcscAVI7kxINO2fLxTQmUz3pwZl4IqiQRMA0q5yaQthTTElOTxQyiUNg02QA5OaEy3JHFRTn5CVOaljREZxjbRIwMYqsikkk1IGxxjNSXYE6U7nIpykelPyuD60AxqqS3tUgi+XalKgJQEDOaXpznFUiB8KCPhuTU5Kk5FVhKc7cc+tWYrWSSMtTsSyrKWyT0pAPMAJapjA65VxnPSmlFHC/jRYaHDCe9PZgw7VC2AevFK2AOtAEqLmlYKOtRxSE9ac+D15oA/9k=', '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', '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', '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'], 'texts': []}, 'question': 'ISIC_0074664 0 IP_9179679 70 male posterior torso 3.01 TBP tile: close-up 3D: XP 21.38496 16.90438 30.64639 29.90155 37.37001 34.3491 55.09278 60.51902 35.67091 44.6079 4.034528 17.5092 1.624217 4.480578 0.7448426 -8.936993 9.2946 7.969639 0.8523205 Torso Back Middle Third Torso Back 1.726028 62.32678 4.059123 4.634695 8.404841 1.471253 4.310717 1.789126 0.4263566 50 64.70935 1220.591 172.2924 Department of Dermatology, Hospital Clínic de Barcelona CC-BY-NC'}\n"
     ]
    }
   ],
   "source": [
    "#RAG\n",
    "#Now let's run RAG and test the ability to synthesize an answer to our question.\n",
    "\n",
    "# Run RAG chain\n",
    "output = chain_multimodal_rag.invoke(query)"
   ]
  },
  {
   "cell_type": "code",
   "execution_count": null,
   "id": "61fb3c2d-1cf2-46a2-9db9-bd6350910ff2",
   "metadata": {},
   "outputs": [],
   "source": []
  },
  {
   "cell_type": "code",
   "execution_count": 30,
   "id": "73a86d9a-b9f4-4d2e-8f7d-114fdaa963be",
   "metadata": {},
   "outputs": [
    {
     "name": "stdout",
     "output_type": "stream",
     "text": [
      "Based on the provided data and the context of skin cancer detection, the prediction for whether the case is benign or malignant is as follows:\n",
      "\n",
      "**Probability of being malignant: 0.70 (70%)**\n",
      "\n",
      "This prediction is derived from the given information, including the dermatoscopic images and the textual data provided.\n"
     ]
    }
   ],
   "source": [
    "print(output)"
   ]
  },
  {
   "cell_type": "code",
   "execution_count": 153,
   "id": "0fae156b-e9af-4cdb-94c4-1c8cc1becc37",
   "metadata": {},
   "outputs": [],
   "source": [
    "new_query = 'Tell me what you think from this text data whether it is a malignant or benign case ISIC_0074664  IP_9179679 70 male posterior torso 3.01 TBP tile: close-up 3D: XP 21.38496 16.90438 30.64639 29.90155 37.37001 34.3491 55.09278 60.51902 35.67091 44.6079 4.034528 17.5092 1.624217 4.480578 0.7448426 -8.936993 9.2946 7.969639 0.8523205 Torso Back Middle Third Torso Back 1.726028 62.32678 4.059123 4.634695 8.404841 1.471253 4.310717 1.789126 0.4263566 50 64.70935 1220.591 172.2924 Department of Dermatology, Hospital Clínic de Barcelona CC-BY-N'"
   ]
  },
  {
   "cell_type": "code",
   "execution_count": 154,
   "id": "a4c62df7-f5a2-491a-98da-9332e301695a",
   "metadata": {},
   "outputs": [
    {
     "data": {
      "text/plain": [
       "1"
      ]
     },
     "execution_count": 154,
     "metadata": {},
     "output_type": "execute_result"
    }
   ],
   "source": [
    "query = \"ISIC_0074664 IP_9179679 70 male posterior torso 3.01 TBP tile: close-up 3D: XP 21.38496 16.90438 30.64639 29.90155 37.37001 34.3491 55.09278 60.51902 35.67091 44.6079 4.034528 17.5092 1.624217 4.480578 0.7448426 -8.936993 9.2946 7.969639 0.8523205 Torso Back Middle Third Torso Back 1.726028 62.32678 4.059123 4.634695 8.404841 1.471253 4.310717 1.789126 0.4263566 50 64.70935 1220.591 172.2924 Department of Dermatology, Hospital Clínic de Barcelona CC-BY-N\"\n",
    "# Retrieve documents using the multi-vector retriever\n",
    "docs = retriever_multi_vector_img.invoke(new_query)\n",
    "\n",
    "# Check the number of retrieved documents\n",
    "len(docs)"
   ]
  },
  {
   "cell_type": "code",
   "execution_count": 155,
   "id": "88a1e1f7-39a5-40b8-acaa-458a4778e618",
   "metadata": {},
   "outputs": [
    {
     "name": "stdout",
     "output_type": "stream",
     "text": [
      "{'context': {'images': ['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', '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'], 'texts': []}, 'question': 'ISIC_0074664  IP_9179679 70 male posterior torso 3.01 TBP tile: close-up 3D: XP 21.38496 16.90438 30.64639 29.90155 37.37001 34.3491 55.09278 60.51902 35.67091 44.6079 4.034528 17.5092 1.624217 4.480578 0.7448426 -8.936993 9.2946 7.969639 0.8523205 Torso Back Middle Third Torso Back 1.726028 62.32678 4.059123 4.634695 8.404841 1.471253 4.310717 1.789126 0.4263566 50 64.70935 1220.591 172.2924 Department of Dermatology, Hospital Clínic de Barcelona CC-BY-N'}\n",
      "As a medical expert specializing in skin cancer detection, I can provide an analysis based on the provided images and text data. However, please note that a definitive diagnosis should always be made by a qualified healthcare professional through a comprehensive clinical evaluation, including a physical examination and possibly a biopsy.\n",
      "\n",
      "### Analysis of Provided Data\n",
      "\n",
      "#### Images:\n",
      "1. **First Image**: Shows a close-up of skin with multiple small, brownish spots.\n",
      "2. **Second Image**: Shows a close-up of skin with larger, more diffuse brownish areas.\n",
      "\n",
      "#### Text Data:\n",
      "- **Patient Information**: \n",
      "  - ISIC_0074664\n",
      "  - IP_9179679\n",
      "  - Age: 70\n",
      "  - Gender: Male\n",
      "  - Location: Posterior torso\n",
      "\n",
      "- **Dermatoscopic Data**:\n",
      "  - Various numerical values related to the lesion's characteristics (e.g., 3D coordinates, texture, color distribution).\n",
      "\n",
      "- **Medical Notes**:\n",
      "  - The lesion is located on the middle third of the back of the torso.\n",
      "  - The data includes specific measurements and possibly some dermatoscopic features.\n",
      "\n",
      "### Interpretation\n",
      "\n",
      "#### Visual Inspection:\n",
      "- The first image shows multiple small, brownish spots which could be indicative of benign lesions such as lentigines or seborrheic keratoses.\n",
      "- The second image shows larger, more diffuse brownish areas which could be indicative of benign conditions like solar lentigines or early signs of actinic keratosis.\n",
      "\n",
      "#### Textual Data:\n",
      "- The patient is an elderly male, which increases the risk for skin cancer due to cumulative sun exposure over the years.\n",
      "- The lesion is located on the posterior torso, a common site for both benign and malignant lesions.\n",
      "- The numerical data provided (e.g., 3D coordinates, texture, color distribution) would typically be analyzed using specialized software to detect patterns indicative of malignancy.\n",
      "\n",
      "### Conclusion\n",
      "Based on the provided images and textual data, the lesions appear to be more consistent with benign conditions. However, given the patient's age and the location of the lesions, it is crucial to conduct a thorough clinical evaluation to rule out malignancy.\n",
      "\n",
      "### Recommendations\n",
      "1. **Clinical Examination**: A dermatologist should perform a detailed physical examination of the lesions.\n",
      "2. **Dermatoscopic Analysis**: Use dermatoscopic tools to further analyze the lesions' patterns and structures.\n",
      "3. **Biopsy**: If there is any suspicion of malignancy, a biopsy should be performed to obtain a definitive diagnosis.\n",
      "\n",
      "### Final Note\n",
      "This analysis is based on the provided data and images. A comprehensive evaluation by a healthcare professional is essential for an accurate diagnosis.\n"
     ]
    }
   ],
   "source": [
    "#RAG\n",
    "#Now let's run RAG and test the ability to synthesize an answer to our question.\n",
    "\n",
    "# Run RAG chain\n",
    "output = chain_multimodal_rag.invoke(query)\n",
    "print(output)"
   ]
  },
  {
   "cell_type": "code",
   "execution_count": 44,
   "id": "7ebf1601-4ac4-4c74-a99a-f3d3ee69aee9",
   "metadata": {},
   "outputs": [],
   "source": []
  }
 ],
 "metadata": {
  "kernelspec": {
   "display_name": "ABDA",
   "language": "python",
   "name": "abda"
  },
  "language_info": {
   "codemirror_mode": {
    "name": "ipython",
    "version": 3
   },
   "file_extension": ".py",
   "mimetype": "text/x-python",
   "name": "python",
   "nbconvert_exporter": "python",
   "pygments_lexer": "ipython3",
   "version": "3.12.4"
  }
 },
 "nbformat": 4,
 "nbformat_minor": 5
}
